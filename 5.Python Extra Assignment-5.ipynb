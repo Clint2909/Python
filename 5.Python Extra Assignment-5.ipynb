{
 "cells": [
  {
   "cell_type": "code",
   "execution_count": 1,
   "id": "d5283021-d8d0-435e-9b71-966c40f9ccc2",
   "metadata": {},
   "outputs": [],
   "source": [
    "\n",
    "def subfields():\n",
    "    print(\"sub-fields in AI are:\")\n",
    "    subfields =[\"Machine Learning\", \"Neural Networks\",\"Vision\",\"Robotics\",\"Speech Processing\",\"Natural Language Processing\"]\n",
    "    for subcate in subfields:\n",
    "        print(subcate)\n",
    "    \n",
    "  \n"
   ]
  },
  {
   "cell_type": "code",
   "execution_count": 2,
   "id": "08ced8de-044e-4250-84b7-2aa69757835b",
   "metadata": {},
   "outputs": [
    {
     "name": "stdout",
     "output_type": "stream",
     "text": [
      "sub-fields in AI are:\n",
      "Machine Learning\n",
      "Neural Networks\n",
      "Vision\n",
      "Robotics\n",
      "Speech Processing\n",
      "Natural Language Processing\n"
     ]
    }
   ],
   "source": [
    "subfields()"
   ]
  },
  {
   "cell_type": "code",
   "execution_count": null,
   "id": "2a8a0987-360a-4d74-baf1-c5feedf3535f",
   "metadata": {},
   "outputs": [],
   "source": [
    "\n"
   ]
  },
  {
   "cell_type": "code",
   "execution_count": 3,
   "id": "5b36b1f1-9460-49ba-9075-0db058c31963",
   "metadata": {},
   "outputs": [],
   "source": [
    "def OddEven():\n",
    "    Number=int(input(\"Enter a number:\"))\n",
    "    print(\"Enter a number:\",Number)\n",
    "    if(Number%2)==0:\n",
    "               print(f\"{Number} is Even Number\")\n",
    "    else:\n",
    "        print(f\"{Number} is Odd Number\")\n",
    "    "
   ]
  },
  {
   "cell_type": "code",
   "execution_count": 4,
   "id": "5819de18-68ad-49ab-a562-85d8fc946ce5",
   "metadata": {},
   "outputs": [
    {
     "name": "stdin",
     "output_type": "stream",
     "text": [
      "Enter a number: 52452\n"
     ]
    },
    {
     "name": "stdout",
     "output_type": "stream",
     "text": [
      "Enter a number: 52452\n",
      "52452 is Even Number\n"
     ]
    }
   ],
   "source": [
    "OddEven()"
   ]
  },
  {
   "cell_type": "code",
   "execution_count": 5,
   "id": "a778fe47-17a8-4669-8b3f-e215531d8295",
   "metadata": {},
   "outputs": [],
   "source": [
    "def Elegible():\n",
    "    gender = input(\"Your Gender: \")\n",
    "    age = int(input(\"Your Age: \"))\n",
    "    \n",
    "    if gender == \"Male\":\n",
    "        if age >=22:\n",
    "            print(\"ELIGIBLE\")\n",
    "        else:\n",
    "            print(\"NOT ELIGIBLE\")\n",
    "            \n",
    "    elif gender == \"Female\":\n",
    "        if age >=18:\n",
    "            print(\"ELIGIBLE\")\n",
    "        else:\n",
    "            print(\"NOT ELIGIBLE\")\n",
    "    else:\n",
    "        print(\"Invalid gender entered. Please enter 'Male' or 'Female'.\")\n",
    "\n",
    "\n"
   ]
  },
  {
   "cell_type": "code",
   "execution_count": 6,
   "id": "9c4a4ee8-45f8-45d7-b73e-58a0c2a4db16",
   "metadata": {},
   "outputs": [
    {
     "name": "stdin",
     "output_type": "stream",
     "text": [
      "Your Gender:  Male\n",
      "Your Age:  20\n"
     ]
    },
    {
     "name": "stdout",
     "output_type": "stream",
     "text": [
      "NOT ELIGIBLE\n"
     ]
    }
   ],
   "source": [
    "Elegible()"
   ]
  },
  {
   "cell_type": "code",
   "execution_count": null,
   "id": "dfdea92e-9ce3-4ae2-bcb4-de3fd2b15d51",
   "metadata": {},
   "outputs": [],
   "source": []
  },
  {
   "cell_type": "code",
   "execution_count": 9,
   "id": "26342ae7-720a-4d66-a4a3-7d31a5af2413",
   "metadata": {},
   "outputs": [],
   "source": [
    "def percentage():\n",
    "    Subject1= 98\n",
    "    Subject2= 87\n",
    "    Subject3= 95\n",
    "    Subject4= 95\n",
    "    Subject5= 93\n",
    "    \n",
    "    Total=Subject1+Subject2+Subject3+Subject4+Subject5\n",
    "    \n",
    "    percentage=(Total/500)*100\n",
    "    \n",
    "    print(\"Subject1=\",Subject1)\n",
    "    print(\"Subject2=\",Subject2)\n",
    "    print(\"Subject3=\",Subject3)\n",
    "    print(\"Subject4=\",Subject4)\n",
    "    print(\"Subject5=\",Subject5)\n",
    "    print(\"Total=\",Total)\n",
    "    print(\"percentage=\",percentage)\n",
    "    \n",
    "\n"
   ]
  },
  {
   "cell_type": "code",
   "execution_count": 10,
   "id": "eb4cece3-7215-40c7-8413-338ef5b6d151",
   "metadata": {},
   "outputs": [
    {
     "name": "stdout",
     "output_type": "stream",
     "text": [
      "Subject1= 98\n",
      "Subject2= 87\n",
      "Subject3= 95\n",
      "Subject4= 95\n",
      "Subject5= 93\n",
      "Total= 468\n",
      "percentage= 93.60000000000001\n"
     ]
    }
   ],
   "source": [
    "percentage()"
   ]
  },
  {
   "cell_type": "code",
   "execution_count": null,
   "id": "09cf0dab-e169-4206-b6f9-43b97626c473",
   "metadata": {},
   "outputs": [],
   "source": []
  },
  {
   "cell_type": "code",
   "execution_count": 12,
   "id": "ef585344-813b-4462-beb5-627509048c41",
   "metadata": {},
   "outputs": [],
   "source": [
    "def triangle():\n",
    "    Height=32\n",
    "    Breadth=34\n",
    "    Area=(Height*Breadth)/2\n",
    "    print(\"Height:\",Height)\n",
    "    print(\"Breadth:\",Breadth)\n",
    "    print(\"Area formula:(Height*Breadth)/2\")\n",
    "    print(\"Area of Triangle:\",Area)\n",
    "    Height1=2\n",
    "    Height2=4\n",
    "    Breadth1=4\n",
    "    Breadth=Breadth1\n",
    "    Perimeter_formula=Height1+Height2+Breadth1\n",
    "    print(\"Height1:\",Height1)\n",
    "    print(\"Height2:\",Height2)\n",
    "    print(\"Breadth:\",Breadth)\n",
    "    print(\"Perimeter formula: Height1+Height2+Breadth\")\n",
    "    print(\"Perimeter of Triangle:\",Perimeter_formula)\n",
    "\n",
    "\n",
    "    \n"
   ]
  },
  {
   "cell_type": "code",
   "execution_count": 13,
   "id": "30c3089d-d4ad-4101-af5f-e83d2a5a632a",
   "metadata": {},
   "outputs": [
    {
     "name": "stdout",
     "output_type": "stream",
     "text": [
      "Height: 32\n",
      "Breadth: 34\n",
      "Area formula:(Height*Breadth)/2\n",
      "Area of Triangle: 544.0\n",
      "Height1: 2\n",
      "Height2: 4\n",
      "Breadth: 4\n",
      "Perimeter formula: Height1+Height2+Breadth\n",
      "Perimeter of Triangle: 10\n"
     ]
    }
   ],
   "source": [
    "triangle()"
   ]
  },
  {
   "cell_type": "code",
   "execution_count": null,
   "id": "46737cfd-60a8-42fb-b431-f484297c5909",
   "metadata": {},
   "outputs": [],
   "source": []
  }
 ],
 "metadata": {
  "kernelspec": {
   "display_name": "Python 3 (ipykernel)",
   "language": "python",
   "name": "python3"
  },
  "language_info": {
   "codemirror_mode": {
    "name": "ipython",
    "version": 3
   },
   "file_extension": ".py",
   "mimetype": "text/x-python",
   "name": "python",
   "nbconvert_exporter": "python",
   "pygments_lexer": "ipython3",
   "version": "3.12.4"
  }
 },
 "nbformat": 4,
 "nbformat_minor": 5
}
