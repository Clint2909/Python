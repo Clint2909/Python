{
 "cells": [
  {
   "cell_type": "code",
   "execution_count": 1,
   "id": "9072bad1-c3e7-47c7-a6ea-b5f748b8ab75",
   "metadata": {},
   "outputs": [
    {
     "name": "stdout",
     "output_type": "stream",
     "text": [
      "HOPE AI\n"
     ]
    }
   ],
   "source": [
    "print(\"HOPE AI\")"
   ]
  },
  {
   "cell_type": "code",
   "execution_count": 2,
   "id": "196e281e-ab7a-4cd7-b13f-9d405e3c402f",
   "metadata": {},
   "outputs": [
    {
     "name": "stdin",
     "output_type": "stream",
     "text": [
      "Enter your institute name: HOPE AI\n"
     ]
    }
   ],
   "source": [
    "Name=(input(\"Enter your institute name:\"))"
   ]
  },
  {
   "cell_type": "code",
   "execution_count": 4,
   "id": "6e90a247-fad6-46ce-a26f-0636a1138a1b",
   "metadata": {},
   "outputs": [
    {
     "name": "stdout",
     "output_type": "stream",
     "text": [
      "Enter your institute name?: HOPE AI\n"
     ]
    }
   ],
   "source": [
    "print(\"Enter your institute name?:\",Name)"
   ]
  },
  {
   "cell_type": "code",
   "execution_count": 6,
   "id": "11b5c852-07bf-4d50-b9b6-d769210f66f3",
   "metadata": {},
   "outputs": [
    {
     "name": "stdin",
     "output_type": "stream",
     "text": [
      "Enter your name: Raj\n",
      "Enter your Age: 15\n",
      "Enter your School name: Guru School\n",
      "Enter your degree: B.E CSE\n"
     ]
    }
   ],
   "source": [
    "Name=(input(\"Enter your name:\"))\n",
    "Age=int(input(\"Enter your Age:\"))\n",
    "School=(input(\"Enter your School name:\"))\n",
    "Degree=(input(\"Enter your degree:\"))"
   ]
  },
  {
   "cell_type": "code",
   "execution_count": 7,
   "id": "cc9c2dc0-76c5-442d-8bf5-6fb77fd67ae9",
   "metadata": {},
   "outputs": [
    {
     "name": "stdout",
     "output_type": "stream",
     "text": [
      "Enter your name: Raj\n",
      "Enter your Age: 15\n",
      "Enter your School name: Guru School\n",
      "Enter your degree: B.E CSE\n"
     ]
    }
   ],
   "source": [
    "print(\"Enter your name:\",Name)\n",
    "print(\"Enter your Age:\",Age)\n",
    "print(\"Enter your School name:\",School)\n",
    "print(\"Enter your degree:\",Degree)"
   ]
  },
  {
   "cell_type": "code",
   "execution_count": 8,
   "id": "ee58e661-0073-4820-9fbf-b869be3b9d5a",
   "metadata": {},
   "outputs": [],
   "source": [
    "a=43\n",
    "b=34\n",
    "add=a+b"
   ]
  },
  {
   "cell_type": "code",
   "execution_count": 9,
   "id": "30676292-845a-4d87-9686-434e44d6bf75",
   "metadata": {},
   "outputs": [
    {
     "name": "stdout",
     "output_type": "stream",
     "text": [
      "a=43\n",
      "b=34\n",
      "add= 77\n"
     ]
    }
   ],
   "source": [
    "print(\"a=43\")\n",
    "print(\"b=34\")\n",
    "print(\"add=\",add)"
   ]
  },
  {
   "cell_type": "code",
   "execution_count": 10,
   "id": "bb7fa30b-5141-4c26-aaa0-e6614a3df1d9",
   "metadata": {},
   "outputs": [],
   "source": [
    "sub=a-b"
   ]
  },
  {
   "cell_type": "code",
   "execution_count": 11,
   "id": "1c22f7f7-cc5e-403b-9957-17f3f9914376",
   "metadata": {},
   "outputs": [
    {
     "name": "stdout",
     "output_type": "stream",
     "text": [
      "a=43\n",
      "b=34\n",
      "sub= 9\n"
     ]
    }
   ],
   "source": [
    "print(\"a=43\")\n",
    "print(\"b=34\")\n",
    "print(\"sub=\",sub)"
   ]
  },
  {
   "cell_type": "code",
   "execution_count": 12,
   "id": "5a704c9e-2252-4ce6-bbcc-facbffcca0f3",
   "metadata": {},
   "outputs": [],
   "source": [
    "a= 63\n",
    "b= 97\n",
    "Mul=a*b"
   ]
  },
  {
   "cell_type": "code",
   "execution_count": 13,
   "id": "75e68dc0-cf0f-4698-9a94-df934c8121ee",
   "metadata": {},
   "outputs": [
    {
     "name": "stdout",
     "output_type": "stream",
     "text": [
      "a=63\n",
      "b=97\n",
      "Mul= 6111\n"
     ]
    }
   ],
   "source": [
    "print(\"a=63\")\n",
    "print(\"b=97\")\n",
    "print(\"Mul=\",Mul)"
   ]
  },
  {
   "cell_type": "code",
   "execution_count": 16,
   "id": "fe7015ff-4825-4a40-8d71-58ee0af09d14",
   "metadata": {},
   "outputs": [],
   "source": [
    "a= 76\n",
    "b= 31\n",
    "Div=a/b"
   ]
  },
  {
   "cell_type": "code",
   "execution_count": 17,
   "id": "22650deb-8b2b-478b-ac94-d7cdb11cad66",
   "metadata": {},
   "outputs": [
    {
     "name": "stdout",
     "output_type": "stream",
     "text": [
      "a=76\n",
      "b=31\n",
      "Float Div= 2.4516129032258065\n"
     ]
    }
   ],
   "source": [
    "print(\"a=76\")\n",
    "print(\"b=31\")\n",
    "print(\"Float Div=\",Div)"
   ]
  },
  {
   "cell_type": "code",
   "execution_count": 18,
   "id": "052372ec-d4e9-447e-a461-6d2ade28e769",
   "metadata": {},
   "outputs": [],
   "source": [
    "a= 76\n",
    "b= 31\n",
    "ans=a//b"
   ]
  },
  {
   "cell_type": "code",
   "execution_count": 19,
   "id": "0f875e4d-cb85-4b94-b5f0-ed06036e8c58",
   "metadata": {},
   "outputs": [
    {
     "name": "stdout",
     "output_type": "stream",
     "text": [
      "a=76\n",
      "b=31\n",
      "Floor Div= 2\n"
     ]
    }
   ],
   "source": [
    "print(\"a=76\")\n",
    "print(\"b=31\")\n",
    "print(\"Floor Div=\",ans)"
   ]
  },
  {
   "cell_type": "code",
   "execution_count": 2,
   "id": "e968f8ad-c08c-49d7-a0c3-7bbccf1958eb",
   "metadata": {},
   "outputs": [],
   "source": [
    "a= 76\n",
    "b= 31\n",
    "Mod=a%b"
   ]
  },
  {
   "cell_type": "code",
   "execution_count": 3,
   "id": "de0135cf-1f01-438b-b3fd-163405bf385d",
   "metadata": {},
   "outputs": [
    {
     "name": "stdout",
     "output_type": "stream",
     "text": [
      "a=76\n",
      "b=31\n",
      "Modulo= 14\n"
     ]
    }
   ],
   "source": [
    "print(\"a=76\")\n",
    "print(\"b=31\")\n",
    "print(\"Modulo=\",Mod)"
   ]
  },
  {
   "cell_type": "code",
   "execution_count": 5,
   "id": "9b4048e8-d84e-4bc4-8f48-df21e5be44f5",
   "metadata": {},
   "outputs": [],
   "source": [
    "a= 4 \n",
    "b= 4 \n",
    "Power=a**b"
   ]
  },
  {
   "cell_type": "code",
   "execution_count": 6,
   "id": "4143de7f-6462-478e-92a9-1379d5ba9680",
   "metadata": {},
   "outputs": [
    {
     "name": "stdout",
     "output_type": "stream",
     "text": [
      "a=4\n",
      "b=4\n",
      "Power= 256\n"
     ]
    }
   ],
   "source": [
    "print(\"a=4\")\n",
    "print(\"b=4\")\n",
    "print(\"Power=\",Power)"
   ]
  },
  {
   "cell_type": "code",
   "execution_count": null,
   "id": "8ea63857-6a56-4ad4-a321-cf40a7e60ee8",
   "metadata": {},
   "outputs": [],
   "source": []
  },
  {
   "cell_type": "code",
   "execution_count": null,
   "id": "ce39e44f-72b6-4ccf-81c5-d1a36ca33b57",
   "metadata": {},
   "outputs": [],
   "source": []
  }
 ],
 "metadata": {
  "kernelspec": {
   "display_name": "Python 3 (ipykernel)",
   "language": "python",
   "name": "python3"
  },
  "language_info": {
   "codemirror_mode": {
    "name": "ipython",
    "version": 3
   },
   "file_extension": ".py",
   "mimetype": "text/x-python",
   "name": "python",
   "nbconvert_exporter": "python",
   "pygments_lexer": "ipython3",
   "version": "3.12.4"
  }
 },
 "nbformat": 4,
 "nbformat_minor": 5
}
