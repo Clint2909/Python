{
 "cells": [
  {
   "cell_type": "code",
   "execution_count": 2,
   "id": "99117b8e-3407-4063-8b2f-4fcdfe2f2aec",
   "metadata": {},
   "outputs": [],
   "source": [
    "from MultipleFunctions import MultipleFunctions"
   ]
  },
  {
   "cell_type": "code",
   "execution_count": 3,
   "id": "3bd7f052-b613-4f9d-8350-340a89b504f9",
   "metadata": {},
   "outputs": [
    {
     "name": "stdout",
     "output_type": "stream",
     "text": [
      "sub-fields in AI are:\n",
      "Machine Learning\n",
      "Neural Networks\n",
      "Vision\n",
      "Robotics\n",
      "Speech Processing\n",
      "Natural Language Processing\n"
     ]
    }
   ],
   "source": [
    "MultipleFunctions.subfields()"
   ]
  },
  {
   "cell_type": "code",
   "execution_count": 4,
   "id": "71e7e4c6-3b7a-4fce-bca5-60f15fb62674",
   "metadata": {},
   "outputs": [
    {
     "name": "stdin",
     "output_type": "stream",
     "text": [
      "Enter a number: 52452\n"
     ]
    },
    {
     "name": "stdout",
     "output_type": "stream",
     "text": [
      "Enter a number: 52452\n",
      "52452 is Even Number\n"
     ]
    }
   ],
   "source": [
    "MultipleFunctions.OddEven()"
   ]
  },
  {
   "cell_type": "code",
   "execution_count": 5,
   "id": "b16f0de2-c398-4612-8ca3-449c6e1cd516",
   "metadata": {},
   "outputs": [
    {
     "name": "stdin",
     "output_type": "stream",
     "text": [
      "Your Gender: Male\n",
      "Your Age: 20\n"
     ]
    },
    {
     "name": "stdout",
     "output_type": "stream",
     "text": [
      "Your Gender: Male\n",
      "Your Age: 20\n",
      "Not ElIGIBLE\n"
     ]
    }
   ],
   "source": [
    "MultipleFunctions.Elegible()"
   ]
  },
  {
   "cell_type": "code",
   "execution_count": 6,
   "id": "82fe6785-9010-4114-ba3a-42f1f8c05cd1",
   "metadata": {},
   "outputs": [
    {
     "name": "stdin",
     "output_type": "stream",
     "text": [
      "Enter the Mark: 98\n",
      "Enter the Mark: 87\n",
      "Enter the Mark: 95\n",
      "Enter the Mark: 95\n",
      "Enter the Mark: 93\n"
     ]
    },
    {
     "name": "stdout",
     "output_type": "stream",
     "text": [
      "Subject1= 98\n",
      "Subject2= 87\n",
      "Subject3= 95\n",
      "Subject4= 95\n",
      "Subject5= 93\n",
      "Total: 468\n",
      "Percentage: 93.60000000000001\n"
     ]
    }
   ],
   "source": [
    "MultipleFunctions.percentage()"
   ]
  },
  {
   "cell_type": "code",
   "execution_count": 7,
   "id": "e43460a3-d443-4466-9009-6a0343277ab4",
   "metadata": {},
   "outputs": [
    {
     "name": "stdin",
     "output_type": "stream",
     "text": [
      "Enter the Height: 32\n",
      "Enter the Breadth: 34\n"
     ]
    },
    {
     "name": "stdout",
     "output_type": "stream",
     "text": [
      "Height: 32\n",
      "Breadth: 34\n",
      "Area formula:(Height*Breadth)/2\n",
      "Area of Triangle: 544.0\n"
     ]
    },
    {
     "name": "stdin",
     "output_type": "stream",
     "text": [
      "Enter the Height1: 2\n",
      "Enter the Height2: 4\n",
      "Enter the  Breadth: 4\n"
     ]
    },
    {
     "name": "stdout",
     "output_type": "stream",
     "text": [
      "Height1: 2\n",
      "Height2: 4\n",
      "Breadth: 4\n",
      "Perimeter formula: Height1+Height2+Breadth\n",
      "Perimeter of Triangle: 10\n"
     ]
    }
   ],
   "source": [
    "MultipleFunctions.triangle()"
   ]
  }
 ],
 "metadata": {
  "kernelspec": {
   "display_name": "Python 3 (ipykernel)",
   "language": "python",
   "name": "python3"
  },
  "language_info": {
   "codemirror_mode": {
    "name": "ipython",
    "version": 3
   },
   "file_extension": ".py",
   "mimetype": "text/x-python",
   "name": "python",
   "nbconvert_exporter": "python",
   "pygments_lexer": "ipython3",
   "version": "3.12.4"
  }
 },
 "nbformat": 4,
 "nbformat_minor": 5
}
