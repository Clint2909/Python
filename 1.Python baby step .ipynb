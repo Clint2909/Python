{
 "cells": [
  {
   "cell_type": "code",
   "execution_count": 2,
   "id": "1c103b1f-f1ec-499a-b76d-8250e7f1650c",
   "metadata": {},
   "outputs": [
    {
     "name": "stdout",
     "output_type": "stream",
     "text": [
      "Welcome to Assignment-1\n"
     ]
    }
   ],
   "source": [
    "print(\"Welcome to Assignment-1\")"
   ]
  },
  {
   "cell_type": "code",
   "execution_count": null,
   "id": "551ad1c8-84b9-47e5-a9f1-55927538ee4a",
   "metadata": {},
   "outputs": [],
   "source": []
  },
  {
   "cell_type": "code",
   "execution_count": 1,
   "id": "8159da47-acf4-43a7-b098-6f704e0f0e49",
   "metadata": {},
   "outputs": [
    {
     "name": "stdout",
     "output_type": "stream",
     "text": [
      "Num1= 10\n",
      "Num2= 30\n",
      "Add= 40\n"
     ]
    }
   ],
   "source": [
    "Num1=10\n",
    "print(\"Num1=\",10)\n",
    "Num2=30\n",
    "print(\"Num2=\",30)\n",
    "Add=Num1+Num2\n",
    "print(\"Add=\",Add)"
   ]
  },
  {
   "cell_type": "code",
   "execution_count": null,
   "id": "85b304f1-9239-415c-b609-7464961f422c",
   "metadata": {},
   "outputs": [],
   "source": []
  },
  {
   "cell_type": "code",
   "execution_count": 9,
   "id": "950194c7-ef4e-4822-a65d-1060fcc04166",
   "metadata": {},
   "outputs": [
    {
     "name": "stdin",
     "output_type": "stream",
     "text": [
      "Enter the BMI index: 34\n"
     ]
    }
   ],
   "source": [
    "BMI=int(input(\"Enter the BMI index:\"))\n"
   ]
  },
  {
   "cell_type": "code",
   "execution_count": null,
   "id": "39c47c64-ba2d-4b9d-a0d9-97454c31b6e7",
   "metadata": {},
   "outputs": [],
   "source": []
  },
  {
   "cell_type": "code",
   "execution_count": 7,
   "id": "333a4f86-f68f-4756-af20-6b99ebaae3fe",
   "metadata": {},
   "outputs": [
    {
     "name": "stdout",
     "output_type": "stream",
     "text": [
      "Very Overweight\n"
     ]
    }
   ],
   "source": [
    "if(BMI<18.5):\n",
    "    print(\"UnderWeight\")\n",
    "elif(BMI<24.9):\n",
    "    print(\"Normal\")\n",
    "elif(BMI<29.9):\n",
    "    print(\"OverWeight\")\n",
    "else:\n",
    "    print(\"Very Overweight\")"
   ]
  },
  {
   "cell_type": "code",
   "execution_count": null,
   "id": "0235ccea-874e-43b8-9781-59b7de3f804e",
   "metadata": {},
   "outputs": [],
   "source": []
  }
 ],
 "metadata": {
  "kernelspec": {
   "display_name": "Python 3 (ipykernel)",
   "language": "python",
   "name": "python3"
  },
  "language_info": {
   "codemirror_mode": {
    "name": "ipython",
    "version": 3
   },
   "file_extension": ".py",
   "mimetype": "text/x-python",
   "name": "python",
   "nbconvert_exporter": "python",
   "pygments_lexer": "ipython3",
   "version": "3.12.4"
  }
 },
 "nbformat": 4,
 "nbformat_minor": 5
}
