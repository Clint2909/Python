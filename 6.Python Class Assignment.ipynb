{
 "cells": [
  {
   "cell_type": "code",
   "execution_count": 1,
   "id": "902beadf-0dd7-49e2-a127-e05b2e266a6a",
   "metadata": {},
   "outputs": [],
   "source": [
    "class SubfieldsInAI():\n",
    "    def subfields():\n",
    "        print(\"sub-fields in AI are:\")\n",
    "        subfields =[\"Machine Learning\", \"Neural Networks\",\"Vision\",\"Robotics\",\"Speech Processing\",\"Natural Language Processing\"]\n",
    "        for subcate in subfields:\n",
    "            print(subcate)\n",
    "    "
   ]
  },
  {
   "cell_type": "code",
   "execution_count": 2,
   "id": "0bc487ae-e1d4-4c9d-acda-8db4f1a5d471",
   "metadata": {},
   "outputs": [
    {
     "name": "stdout",
     "output_type": "stream",
     "text": [
      "sub-fields in AI are:\n",
      "Machine Learning\n",
      "Neural Networks\n",
      "Vision\n",
      "Robotics\n",
      "Speech Processing\n",
      "Natural Language Processing\n"
     ]
    }
   ],
   "source": [
    "SubfieldsInAI.subfields()"
   ]
  },
  {
   "cell_type": "code",
   "execution_count": null,
   "id": "5c16d5b8-5842-4e01-9e17-e6efd5f79a4a",
   "metadata": {},
   "outputs": [],
   "source": []
  },
  {
   "cell_type": "code",
   "execution_count": 3,
   "id": "2f92e463-7790-4fbc-8038-ea15edf935be",
   "metadata": {},
   "outputs": [],
   "source": [
    "class OddEven():\n",
    "   def OddEven():\n",
    "        Number=int(input(\"Enter a number:\"))\n",
    "        print(\"Enter a number:\",Number)\n",
    "        if(Number%2)==0:\n",
    "                   print(f\"{Number} is Even Number\")\n",
    "        else:\n",
    "            print(f\"{Number} is Odd Number\")"
   ]
  },
  {
   "cell_type": "code",
   "execution_count": 4,
   "id": "cb5b02b8-f86d-4207-a72f-0573246fdf38",
   "metadata": {},
   "outputs": [
    {
     "name": "stdin",
     "output_type": "stream",
     "text": [
      "Enter a number: 52452\n"
     ]
    },
    {
     "name": "stdout",
     "output_type": "stream",
     "text": [
      "Enter a number: 52452\n",
      "52452 is Even Number\n"
     ]
    }
   ],
   "source": [
    "OddEven.OddEven()"
   ]
  },
  {
   "cell_type": "code",
   "execution_count": 5,
   "id": "30d3c2e2-05c2-43f9-aba5-178edd066e42",
   "metadata": {},
   "outputs": [],
   "source": [
    "class ElegiblityForMarriage():\n",
    "    def Elegible():\n",
    "        gender=input(\"Your Gender:\")\n",
    "        age=int(input(\"Your Age:\"))\n",
    "        print(\"Your Gender:\",gender)\n",
    "        print(\"Your Age:\",age)\n",
    "        if gender ==\"Male\" and age>=22:\n",
    "            print(\"ElIGIBLE\")\n",
    "        elif gender==\"Female\" and age>=18:\n",
    "            print(\"ElIGIBLE\")\n",
    "        else:\n",
    "            print(\"Not ElIGIBLE\")\n",
    "            \n",
    "    \n",
    "    "
   ]
  },
  {
   "cell_type": "code",
   "execution_count": 6,
   "id": "10a0b37a-6e8a-461b-a175-7ac9f35449fe",
   "metadata": {},
   "outputs": [
    {
     "name": "stdin",
     "output_type": "stream",
     "text": [
      "Your Gender: Male\n",
      "Your Age: 20\n"
     ]
    },
    {
     "name": "stdout",
     "output_type": "stream",
     "text": [
      "Your Gender: Male\n",
      "Your Age: 20\n",
      "Not ElIGIBLE\n"
     ]
    }
   ],
   "source": [
    "ElegiblityForMarriage.Elegible()"
   ]
  },
  {
   "cell_type": "code",
   "execution_count": 7,
   "id": "74440d19-ba6b-4ddf-9ac9-b1893509552d",
   "metadata": {},
   "outputs": [],
   "source": [
    "class FindPercent():\n",
    "    \n",
    "    def percentage():\n",
    "        Subject1=int(input(\"Enter the Mark:\"))\n",
    "        Subject2=int(input(\"Enter the Mark:\"))\n",
    "        Subject3=int(input(\"Enter the Mark:\"))\n",
    "        Subject4=int(input(\"Enter the Mark:\"))\n",
    "        Subject5=int(input(\"Enter the Mark:\"))\n",
    "        Total=Subject1+Subject2+Subject3+Subject4+Subject5\n",
    "        Percentage=(Total/500)* 100\n",
    "        \n",
    "        print(\"Subject1=\",Subject1)\n",
    "        print(\"Subject2=\",Subject2)\n",
    "        print(\"Subject3=\",Subject3)\n",
    "        print(\"Subject4=\",Subject4)\n",
    "        print(\"Subject5=\",Subject5) \n",
    "        print(\"Total:\",Total)\n",
    "        print(\"Percentage:\",Percentage)\n",
    "    \n",
    "    "
   ]
  },
  {
   "cell_type": "code",
   "execution_count": 8,
   "id": "7c3c7406-3846-407a-8797-5caec5161fee",
   "metadata": {},
   "outputs": [
    {
     "name": "stdin",
     "output_type": "stream",
     "text": [
      "Enter the Mark: 98\n",
      "Enter the Mark: 87\n",
      "Enter the Mark: 95\n",
      "Enter the Mark: 95\n",
      "Enter the Mark: 93\n"
     ]
    },
    {
     "name": "stdout",
     "output_type": "stream",
     "text": [
      "Subject1= 98\n",
      "Subject2= 87\n",
      "Subject3= 95\n",
      "Subject4= 95\n",
      "Subject5= 93\n",
      "Total: 468\n",
      "Percentage: 93.60000000000001\n"
     ]
    }
   ],
   "source": [
    "FindPercent.percentage()"
   ]
  },
  {
   "cell_type": "code",
   "execution_count": 9,
   "id": "1c9cfbd9-3849-4693-8532-19a64458dc89",
   "metadata": {},
   "outputs": [],
   "source": [
    "class triangle():\n",
    "    def triangle():\n",
    "        Height=int(input(\"Enter the Height:\"))\n",
    "        Breadth=int(input(\"Enter the Breadth:\"))\n",
    "        Area=(Height*Breadth)/2\n",
    "        print(\"Height:\",Height)\n",
    "        print(\"Breadth:\",Breadth)\n",
    "        print(\"Area formula:(Height*Breadth)/2\")\n",
    "        print(\"Area of Triangle:\",Area)\n",
    "        Height1=int(input(\"Enter the Height1:\"))\n",
    "        Height2=int(input(\"Enter the Height2:\"))\n",
    "        Breadth1=int(input(\"Enter the  Breadth:\"))\n",
    "        Breadth=Breadth1\n",
    "        Perimeter_formula=Height1+Height2+Breadth1\n",
    "        print(\"Height1:\",Height1)\n",
    "        print(\"Height2:\",Height2)\n",
    "        print(\"Breadth:\",Breadth)\n",
    "        print(\"Perimeter formula: Height1+Height2+Breadth\")\n",
    "        print(\"Perimeter of Triangle:\",Perimeter_formula)\n",
    "    \n",
    "   "
   ]
  },
  {
   "cell_type": "code",
   "execution_count": 10,
   "id": "0fea07d1-fbdc-405a-a857-ac4a180899d6",
   "metadata": {},
   "outputs": [
    {
     "name": "stdin",
     "output_type": "stream",
     "text": [
      "Enter the Height: 32\n",
      "Enter the Breadth: 34\n"
     ]
    },
    {
     "name": "stdout",
     "output_type": "stream",
     "text": [
      "Height: 32\n",
      "Breadth: 34\n",
      "Area formula:(Height*Breadth)/2\n",
      "Area of Triangle: 544.0\n"
     ]
    },
    {
     "name": "stdin",
     "output_type": "stream",
     "text": [
      "Enter the Height1: 2\n",
      "Enter the Height2: 4\n",
      "Enter the  Breadth: 4\n"
     ]
    },
    {
     "name": "stdout",
     "output_type": "stream",
     "text": [
      "Height1: 2\n",
      "Height2: 4\n",
      "Breadth: 4\n",
      "Perimeter formula: Height1+Height2+Breadth\n",
      "Perimeter of Triangle: 10\n"
     ]
    }
   ],
   "source": [
    "triangle.triangle()"
   ]
  }
 ],
 "metadata": {
  "kernelspec": {
   "display_name": "Python 3 (ipykernel)",
   "language": "python",
   "name": "python3"
  },
  "language_info": {
   "codemirror_mode": {
    "name": "ipython",
    "version": 3
   },
   "file_extension": ".py",
   "mimetype": "text/x-python",
   "name": "python",
   "nbconvert_exporter": "python",
   "pygments_lexer": "ipython3",
   "version": "3.12.4"
  }
 },
 "nbformat": 4,
 "nbformat_minor": 5
}
